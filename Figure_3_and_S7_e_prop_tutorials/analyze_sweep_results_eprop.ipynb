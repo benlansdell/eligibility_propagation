{
 "cells": [
  {
   "cell_type": "code",
   "execution_count": 2,
   "metadata": {},
   "outputs": [],
   "source": [
    "import os\n",
    "from glob import glob\n",
    "import matplotlib.pyplot as plt\n",
    "import pickle\n",
    "import numpy as np\n",
    "\n",
    "base_path = './results_run_eprop/delayed_xor_results_*.pkl'\n",
    "\n",
    "cs = [0.75]                                        #Correlation coefficient\n",
    "ws = np.logspace(-1+0.375/2, 0.125-0.375/2, 3)  #Learning window\n",
    "sigmas = [0.1]\n",
    "\n",
    "model_files = glob(base_path)\n",
    "\n",
    "c_idx = {k: i for i,k in enumerate(cs)}\n",
    "w_idx = {k: i for i,k in enumerate(ws)}\n",
    "sigma_idx = {k: i for i,k in enumerate(sigmas)}"
   ]
  },
  {
   "cell_type": "code",
   "execution_count": 3,
   "metadata": {},
   "outputs": [
    {
     "data": {
      "text/plain": [
       "['./results_run_eprop/delayed_xor_results_c_0.75_w_0.8659643233600653_sigma_0.1_n_0.pkl',\n",
       " './results_run_eprop/delayed_xor_results_c_0.75_w_0.1539926526059492_sigma_0.1_n_0.pkl',\n",
       " './results_run_eprop/delayed_xor_results_c_0.75_w_0.3651741272548377_sigma_0.1_n_0.pkl']"
      ]
     },
     "execution_count": 3,
     "metadata": {},
     "output_type": "execute_result"
    }
   ],
   "source": [
    "model_files"
   ]
  },
  {
   "cell_type": "code",
   "execution_count": 5,
   "metadata": {},
   "outputs": [
    {
     "data": {
      "text/plain": [
       "array([[0, 0, 0]])"
      ]
     },
     "execution_count": 5,
     "metadata": {},
     "output_type": "execute_result"
    }
   ],
   "source": [
    "val_error_matrix = np.zeros((len(c_idx), len(w_idx), len(sigma_idx), 1))\n",
    "n_iter_matrix = np.zeros((len(c_idx), len(w_idx), len(sigma_idx), 1))\n",
    "\n",
    "for model_file in model_files:\n",
    "    c = float(model_file.split('c_')[1].split('_')[0])\n",
    "    w = float(model_file.split('w_')[1].split('_')[0])\n",
    "    sigma = float(model_file.split('sigma_')[1].split('_')[0])\n",
    "    n = int(model_file.split('n_')[2].split('_')[0].split('.')[0])\n",
    "    with open(model_file, 'rb') as handle:\n",
    "        results = pickle.load(handle)\n",
    "    val_error_matrix[c_idx[c], w_idx[w], sigma_idx[sigma], n] = results['results']['val_errors'][-1]\n",
    "    n_iter_matrix[c_idx[c], w_idx[w], sigma_idx[sigma], n] = results['results']['iterations'][-1]\n",
    "    \n",
    "val_error_matrix_mean = np.mean(val_error_matrix, axis = 3)\n",
    "val_error_matrix_std = np.std(val_error_matrix, axis = 3)\n",
    "\n",
    "n_iter_matrix_mean = np.mean(n_iter_matrix, axis = 3)\n",
    "n_iter_matrix_std = np.std(n_iter_matrix, axis = 3)\n",
    "\n",
    "## Some question about whether it's fair to take the max here. May be more fair to use a fixed noise level...\n",
    "# When noise is too small, correlated noise does nothing, when noise is too large, it fails to learn. In some\n",
    "# intermediate, we find the right amount of noise benefits from calibrating its window size.\n",
    "min_n_iter_matrix_mean = np.min(n_iter_matrix_mean, axis = 2)\n",
    "min_val_error_matrix_mean = np.min(val_error_matrix_mean, axis = 2)\n",
    "\n",
    "#min_n_iter_matrix_mean = n_iter_matrix_mean[:,:,2]\n",
    "#min_val_error_matrix_mean = val_error_matrix_mean[:,:,2]\n",
    "\n",
    "idx_min_n_iter_matrix_mean = np.argmin(n_iter_matrix_mean, axis = 2)\n",
    "idx_min_val_error_matrix_mean = np.argmin(val_error_matrix_mean, axis = 2)\n",
    "\n",
    "#idx_min_val_error_matrix_mean\n",
    "idx_min_n_iter_matrix_mean"
   ]
  },
  {
   "cell_type": "code",
   "execution_count": 8,
   "metadata": {},
   "outputs": [
    {
     "data": {
      "text/plain": [
       "array([[0.546875, 0.046875, 0.0625  ]])"
      ]
     },
     "execution_count": 8,
     "metadata": {},
     "output_type": "execute_result"
    }
   ],
   "source": [
    "min_val_error_matrix_mean"
   ]
  },
  {
   "cell_type": "code",
   "execution_count": 9,
   "metadata": {},
   "outputs": [
    {
     "data": {
      "text/plain": [
       "array([[4999., 1107.,  560.]])"
      ]
     },
     "execution_count": 9,
     "metadata": {},
     "output_type": "execute_result"
    }
   ],
   "source": [
    "min_n_iter_matrix_mean"
   ]
  },
  {
   "cell_type": "code",
   "execution_count": 41,
   "metadata": {},
   "outputs": [
    {
     "data": {
      "text/plain": [
       "Text(0.5, 0, 'w')"
      ]
     },
     "execution_count": 41,
     "metadata": {},
     "output_type": "execute_result"
    },
    {
     "data": {
      "image/png": "[encoded data removed]",
      "text/plain": [
       "<Figure size 576x288 with 4 Axes>"
      ]
     },
     "metadata": {
      "needs_background": "light"
     },
     "output_type": "display_data"
    }
   ],
   "source": [
    "fig, ax = plt.subplots(1,2,figsize = (8,4), sharey = True)\n",
    "f1 = ax[0].imshow(min_val_error_matrix_mean[:,:-1])\n",
    "plt.colorbar(f1, ax = ax[0])\n",
    "ax[0].set_title('Mean validation error')\n",
    "ax[0].set_xticks(list(range(grid_size-1)))\n",
    "ax[0].set_xticklabels([f'{w:0.2f}' for w in ws[:-1]]);\n",
    "ax[0].set_yticks(list(range(grid_size)))\n",
    "ax[0].set_yticklabels([f'{c:0.2f}' for c in cs]);\n",
    "ax[0].set_xlabel('w')\n",
    "ax[0].set_ylabel('c')\n",
    "\n",
    "f2 = ax[1].imshow(min_n_iter_matrix_mean[:,:-1])\n",
    "plt.colorbar(f2, ax = ax[1])\n",
    "ax[1].set_title('Mean convergence iterations')\n",
    "ax[1].set_xticks(list(range(grid_size-1)))\n",
    "ax[1].set_xticklabels([f'{w:0.2f}' for w in ws[:-1]]);\n",
    "ax[1].set_yticks(list(range(grid_size)))\n",
    "ax[1].set_yticklabels([f'{c:0.2f}' for c in cs]);\n",
    "ax[1].set_xlabel('w')\n",
    "#ax[1].set_ylabel('c')\n",
    "#plt.savefig('./figures/delayed_xor_sweep_results.pdf')"
   ]
  },
  {
   "cell_type": "code",
   "execution_count": null,
   "metadata": {},
   "outputs": [],
   "source": []
  },
  {
   "cell_type": "code",
   "execution_count": null,
   "metadata": {},
   "outputs": [],
   "source": []
  },
  {
   "cell_type": "code",
   "execution_count": null,
   "metadata": {},
   "outputs": [],
   "source": []
  }
 ],
 "metadata": {
  "interpreter": {
   "hash": "7e37010acdbb13d3bb432a6bf90c6dcfd7837589a548cecd98874d363d756ed0"
  },
  "kernelspec": {
   "display_name": "Python 3",
   "language": "python",
   "name": "python3"
  },
  "language_info": {
   "codemirror_mode": {
    "name": "ipython",
    "version": 3
   },
   "file_extension": ".py",
   "mimetype": "text/x-python",
   "name": "python",
   "nbconvert_exporter": "python",
   "pygments_lexer": "ipython3",
   "version": "3.8.5"
  }
 },
 "nbformat": 4,
 "nbformat_minor": 2
}
